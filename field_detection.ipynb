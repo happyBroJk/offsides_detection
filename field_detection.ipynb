{
 "cells": [
  {
   "cell_type": "code",
   "execution_count": 1,
   "metadata": {},
   "outputs": [],
   "source": [
    "import cv2\n",
    "import matplotlib.pyplot as plt\n",
    "from time import sleep\n",
    "\n",
    "FPS = 35\n",
    "WINDOW_NAME = 'partida'\n",
    "video_path = '../samples_offside/sample21.mp4'\n",
    "\n",
    "vidcap = cv2.VideoCapture(video_path)\n",
    "success,image = vidcap.read()\n",
    "while success:\n",
    "    cv2.imshow(WINDOW_NAME, image)\n",
    "    \n",
    "    # CODE\n",
    "    \n",
    "    if cv2.waitKey(1) & 0xFF == ord('q'):\n",
    "        break\n",
    "    sleep(1/FPS)\n",
    "    success,image = vidcap.read()\n",
    "    \n",
    "vidcap.release()\n",
    "cv2.destroyAllWindows()"
   ]
  }
 ],
 "metadata": {
  "kernelspec": {
   "display_name": "Python 3",
   "language": "python",
   "name": "python3"
  },
  "language_info": {
   "codemirror_mode": {
    "name": "ipython",
    "version": 3
   },
   "file_extension": ".py",
   "mimetype": "text/x-python",
   "name": "python",
   "nbconvert_exporter": "python",
   "pygments_lexer": "ipython3",
   "version": "3.7.2"
  }
 },
 "nbformat": 4,
 "nbformat_minor": 2
}
