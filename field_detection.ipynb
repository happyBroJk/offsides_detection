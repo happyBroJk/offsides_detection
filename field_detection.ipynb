{
 "cells": [
  {
   "cell_type": "code",
   "execution_count": 23,
   "metadata": {},
   "outputs": [],
   "source": [
    "import cv2\n",
    "import matplotlib.pyplot as plt\n",
    "from time import sleep\n",
    "import numpy as np\n",
    "\n",
    "def show_img(img, size=(15, 15)):\n",
    "    plt.figure(figsize=size)\n",
    "    \n",
    "    if len(img.shape) == 2:\n",
    "        plt.gray()\n",
    "        plt.imshow(img)\n",
    "    else:\n",
    "        plt.imshow(img[:, :, ::-1])\n",
    "    plt.show()\n",
    "    \n",
    "def play_video(video_path, f, frames=-1, window_name='Video', fps=30, **kwargs):\n",
    "    vidcap = cv2.VideoCapture(video_path)\n",
    "    length = vidcap.get(cv2.CAP_PROP_FRAME_COUNT) if frames == -1 else frames\n",
    "    success,img = vidcap.read()\n",
    "\n",
    "    old_frame, k, counter = img, -1, 0\n",
    "    while success and counter != frames and k != ord('q'):\n",
    "        old_frame = img\n",
    "        cv2.imshow(window_name, f(img, **kwargs))\n",
    "            \n",
    "        sleep(1/fps)\n",
    "        success, img = vidcap.read()\n",
    "        k = cv2.waitKey(1)\n",
    "        counter += 1\n",
    "        \n",
    "        pos = int(counter/length * 90)\n",
    "        print('Playing video: ' + '[' + pos*'o' + '>' + ' '*(90 - pos) + ']', end='\\r')\n",
    "    \n",
    "    cv2.destroyAllWindows()\n",
    "    vidcap.release()\n",
    "    \n",
    "    return old_frame"
   ]
  },
  {
   "cell_type": "code",
   "execution_count": 30,
   "metadata": {},
   "outputs": [
    {
     "name": "stdout",
     "output_type": "stream",
     "text": [
      "Playing video: [oooooooooooooooooooooooooooooooooooooooooooooooooooooooooooooooooooooooooooooooooooooooooo>]\r"
     ]
    }
   ],
   "source": [
    "img = play_video('../samples_offside/sample22.mp4')\n",
    "# show_img(whitefy(img, 30, 200))\n",
    "\n",
    "# calibrate(img, whitefy, ('threshold_diff', 'threshold_max'), title='whitefy')\n",
    "# calibrate(img, cv2.Canny, ('threshold1', 'threshold2'), title='canny')\n",
    "# calibrate(img, get_edges_with_diff, ('se_1', 'se_2', 'iterations_erode', 'iterations_dilate', 'shape_idx'), 2, 20, title='edges')"
   ]
  }
 ],
 "metadata": {
  "kernelspec": {
   "display_name": "Python 3",
   "language": "python",
   "name": "python3"
  },
  "language_info": {
   "codemirror_mode": {
    "name": "ipython",
    "version": 3
   },
   "file_extension": ".py",
   "mimetype": "text/x-python",
   "name": "python",
   "nbconvert_exporter": "python",
   "pygments_lexer": "ipython3",
   "version": "3.7.2"
  }
 },
 "nbformat": 4,
 "nbformat_minor": 2
}
