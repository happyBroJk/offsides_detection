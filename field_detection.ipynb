{
 "cells": [
  {
   "cell_type": "code",
   "execution_count": 23,
   "metadata": {},
   "outputs": [],
   "source": [
    "import cv2\n",
    "import matplotlib.pyplot as plt\n",
    "from time import sleep\n",
    "import numpy as np\n",
    "\n",
    "def show_img(img, size=(15, 15)):\n",
    "    plt.figure(figsize=size)\n",
    "    \n",
    "    if len(img.shape) == 2:\n",
    "        plt.gray()\n",
    "        plt.imshow(img)\n",
    "    else:\n",
    "        plt.imshow(img[:, :, ::-1])\n",
    "    plt.show()\n",
    "    \n",
    "def play_video(video_path, f, frames=-1, window_name='Video', fps=30, **kwargs):\n",
    "    vidcap = cv2.VideoCapture(video_path)\n",
    "    length = vidcap.get(cv2.CAP_PROP_FRAME_COUNT) if frames == -1 else frames\n",
    "    success,img = vidcap.read()\n",
    "\n",
    "    old_frame, k, counter = img, -1, 0\n",
    "    while success and counter != frames and k != ord('q'):\n",
    "        old_frame = img\n",
    "        cv2.imshow(window_name, f(img, **kwargs))\n",
    "            \n",
    "        sleep(1/fps)\n",
    "        success, img = vidcap.read()\n",
    "        k = cv2.waitKey(1)\n",
    "        counter += 1\n",
    "        \n",
    "        pos = int(counter/length * 90)\n",
    "        print('Playing video: ' + '[' + pos*'o' + '>' + ' '*(90 - pos) + ']', end='\\r')\n",
    "    \n",
    "    cv2.destroyAllWindows()\n",
    "    vidcap.release()\n",
    "    \n",
    "    return old_frame    \n",
    "\n",
    "def get_gray(img):\n",
    "    return cv2.cvtColor(img, cv2.COLOR_BGR2GRAY)\n",
    "\n",
    "def get_edges_with_diff(img, se_1=2, se_2=2, shape_idx=0, iterations_erode=1, iterations_dilate=1):\n",
    "    if img.shape == 3:\n",
    "        img = get_gray(img)\n",
    "\n",
    "    shape = (cv2.MORPH_ELLIPSE, cv2.MORPH_CROSS, cv2.MORPH_RECT)\n",
    "    se = cv2.getStructuringElement(shape[shape_idx%len(shape)], (se_1, se_2))\n",
    "    \n",
    "    img_prev = cv2.erode(img, se, iterations=iterations_erode)\n",
    "    img = cv2.dilate(img, se, iterations=iterations_dilate)\n",
    "    \n",
    "    return img - img_prev\n",
    "\n",
    "def calibrate(img, f, args, range_min=0, range_max=255, title='calibrating'):\n",
    "    cv2.imshow(title, img)\n",
    "    \n",
    "    for arg in args:\n",
    "        cv2.createTrackbar(arg, title, range_min, range_max, lambda x : x)\n",
    "        \n",
    "    new_img, k = img, -1\n",
    "    while k != ord('q'):\n",
    "        cv2.imshow(title, new_img)\n",
    "        new_kwargs = {k: v for k,v in ((arg, cv2.getTrackbarPos(arg, title)) for arg in args)}\n",
    "        new_img = f(img, **new_kwargs)\n",
    "        k = cv2.waitKey(1)\n",
    "    cv2.destroyAllWindows()\n"
   ]
  },
  {
   "cell_type": "code",
   "execution_count": 30,
   "metadata": {},
   "outputs": [
    {
     "name": "stdout",
     "output_type": "stream",
     "text": [
      "Playing video: [oooooooooooooooooooooooooooooooooooooooooooooooooooooooooooooooooooooooooooooooooooooooooo>]\r"
     ]
    }
   ],
   "source": [
    "img = play_video('../samples_offside/sample22.mp4')\n",
    "# show_img(whitefy(img, 30, 200))\n",
    "\n",
    "# calibrate(img, whitefy, ('threshold_diff', 'threshold_max'), title='whitefy')\n",
    "# calibrate(img, cv2.Canny, ('threshold1', 'threshold2'), title='canny')\n",
    "# calibrate(img, get_edges_with_diff, ('se_1', 'se_2', 'iterations_erode', 'iterations_dilate', 'shape_idx'), 2, 20, title='edges')"
   ]
  }
 ],
 "metadata": {
  "kernelspec": {
   "display_name": "Python 3",
   "language": "python",
   "name": "python3"
  },
  "language_info": {
   "codemirror_mode": {
    "name": "ipython",
    "version": 3
   },
   "file_extension": ".py",
   "mimetype": "text/x-python",
   "name": "python",
   "nbconvert_exporter": "python",
   "pygments_lexer": "ipython3",
   "version": "3.7.2"
  }
 },
 "nbformat": 4,
 "nbformat_minor": 2
}
